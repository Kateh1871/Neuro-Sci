{
 "cells": [
  {
   "cell_type": "markdown",
   "id": "712f4624-799a-4d2f-9ba1-f2a25a4e6bbe",
   "metadata": {},
   "source": [
    "### Configure environment"
   ]
  },
  {
   "cell_type": "code",
   "execution_count": 32,
   "id": "78a77830-56e0-4d5b-94a4-ecce791ff7c1",
   "metadata": {},
   "outputs": [
    {
     "name": "stdout",
     "output_type": "stream",
     "text": [
      "['red', [2.76872626, 1.53704975, 9.21559947, 0.56323722, 8.04074081]]\n",
      "['red', [7.54433034, 3.85555633, 9.72344094, 0.47856667, 6.57289952]]\n",
      "['red', [4.30443085, 5.35441224, 5.57918427, 0.11343532, 5.96056585]]\n",
      "['red', [1.63473183, 0.07845803, 7.65404431, 2.34633577, 6.15514032]]\n",
      "['red', [9.23466279, 2.58259551, 9.67235387, 1.40512028, 5.34673317]]\n",
      "['red', [8.15600245, 3.84007059, 9.09387473, 3.35811878, 3.49791883]]\n",
      "['red', [2.76561817, 1.03059644, 9.08228187, 1.10097444, 1.73124434]]\n",
      "['red', [8.73759237, 1.52277985, 1.20578421, 4.30270947, 6.07503532]]\n",
      "['red', [6.31687225, 0.2075648, 2.08071816, 1.70551149, 7.83147636]]\n",
      "['red', [1.775239, 2.76043275, 7.60728292, 1.66208081, 1.90224352]]\n",
      "['blue', [3.14419614, 4.37477798, 1.88386418, 8.79848608, 9.54262885]]\n",
      "['blue', [7.84878414, 2.25261852, 3.09561098, 7.01289705, 0.76608841]]\n",
      "['blue', [2.92136816, 1.78974438, 5.3774392, 7.56331482, 3.30777562]]\n",
      "['blue', [8.70889935, 2.43162105, 1.05599349, 4.4329214, 0.04805563]]\n",
      "['blue', [7.34968301, 3.46311265, 2.51553506, 7.31044141, 6.89240828]]\n",
      "['blue', [1.22277427, 8.93602811, 6.93410974, 7.24315707, 3.98939223]]\n",
      "['blue', [6.38876211, 6.88437947, 2.44299023, 8.66667164, 0.01070277]]\n",
      "['blue', [2.06193532, 2.46891293, 4.18279622, 8.41755587, 2.72535469]]\n",
      "['blue', [7.48197752, 4.19945597, 3.44656098, 4.71284879, 2.89907049]]\n",
      "['blue', [7.50607081, 6.31535614, 4.13087044, 4.98475468, 9.09942643]]\n"
     ]
    }
   ],
   "source": [
    "import numpy as np\n",
    "from load import * # get load_points function\n",
    "\n",
    "points = load_points(\"points.txt\")\n",
    "for point in points: print(point)"
   ]
  },
  {
   "cell_type": "markdown",
   "id": "f0584ea0-ba2a-4beb-b902-3c2dde2b35fd",
   "metadata": {},
   "source": [
    "### Set up problem\n",
    "\n",
    "Currently, `points` is a list of tuples, where each tuple contains a string (the \"red\", \"blue\" label), and a length-5 vector of point coordinates.\n",
    "Some folks might choose to reformat this slightly for computational convenience. "
   ]
  },
  {
   "cell_type": "code",
   "execution_count": 35,
   "id": "ac299545-d176-4e29-b8d9-f9bc39576671",
   "metadata": {
    "scrolled": true
   },
   "outputs": [
    {
     "name": "stdout",
     "output_type": "stream",
     "text": [
      "[1, [2.76872626, 1.53704975, 9.21559947, 0.56323722, 8.04074081]]\n",
      "[1, [7.54433034, 3.85555633, 9.72344094, 0.47856667, 6.57289952]]\n",
      "[1, [4.30443085, 5.35441224, 5.57918427, 0.11343532, 5.96056585]]\n",
      "[1, [1.63473183, 0.07845803, 7.65404431, 2.34633577, 6.15514032]]\n",
      "[1, [9.23466279, 2.58259551, 9.67235387, 1.40512028, 5.34673317]]\n",
      "[1, [8.15600245, 3.84007059, 9.09387473, 3.35811878, 3.49791883]]\n",
      "[1, [2.76561817, 1.03059644, 9.08228187, 1.10097444, 1.73124434]]\n",
      "[1, [8.73759237, 1.52277985, 1.20578421, 4.30270947, 6.07503532]]\n",
      "[1, [6.31687225, 0.2075648, 2.08071816, 1.70551149, 7.83147636]]\n",
      "[1, [1.775239, 2.76043275, 7.60728292, 1.66208081, 1.90224352]]\n",
      "[-1, [3.14419614, 4.37477798, 1.88386418, 8.79848608, 9.54262885]]\n",
      "[-1, [7.84878414, 2.25261852, 3.09561098, 7.01289705, 0.76608841]]\n",
      "[-1, [2.92136816, 1.78974438, 5.3774392, 7.56331482, 3.30777562]]\n",
      "[-1, [8.70889935, 2.43162105, 1.05599349, 4.4329214, 0.04805563]]\n",
      "[-1, [7.34968301, 3.46311265, 2.51553506, 7.31044141, 6.89240828]]\n",
      "[-1, [1.22277427, 8.93602811, 6.93410974, 7.24315707, 3.98939223]]\n",
      "[-1, [6.38876211, 6.88437947, 2.44299023, 8.66667164, 0.01070277]]\n",
      "[-1, [2.06193532, 2.46891293, 4.18279622, 8.41755587, 2.72535469]]\n",
      "[-1, [7.48197752, 4.19945597, 3.44656098, 4.71284879, 2.89907049]]\n",
      "[-1, [7.50607081, 6.31535614, 4.13087044, 4.98475468, 9.09942643]]\n"
     ]
    }
   ],
   "source": [
    "# your code here\n",
    "for point in points:\n",
    "    if point[0] == 'red': point[0] = 1\n",
    "    if point[0] == 'blue': point[0] = -1\n",
    "    print(point)\n"
   ]
  },
  {
   "cell_type": "markdown",
   "id": "39e27c5e-ed2b-4c93-9f40-7b03efe91c97",
   "metadata": {},
   "source": [
    "### Implement the perceptron learning rule"
   ]
  },
  {
   "cell_type": "code",
   "execution_count": 42,
   "id": "9659e2d4-e6fd-46e0-8b60-92dce5605706",
   "metadata": {
    "scrolled": true
   },
   "outputs": [
    {
     "name": "stdout",
     "output_type": "stream",
     "text": [
      "1 1\n",
      "1 1\n",
      "1 1\n",
      "1 1\n",
      "1 1\n",
      "1 1\n",
      "1 1\n",
      "1 -1\n",
      "1 -1\n",
      "1 1\n",
      "-1 -1\n",
      "-1 -1\n",
      "-1 -1\n",
      "-1 -1\n",
      "-1 -1\n",
      "-1 -1\n",
      "-1 -1\n",
      "-1 -1\n",
      "-1 -1\n",
      "-1 -1\n"
     ]
    }
   ],
   "source": [
    "eta = 0.01 # learning rate\n",
    "w = np.zeros(5)\n",
    "\n",
    "def Pitts(w, x, theta, eta):\n",
    "    for j in range(0, len(x)):\n",
    "        point = np.array(x[j][1])\n",
    "        if point.dot(w) > theta: y = 1\n",
    "        else: y = -1\n",
    "        for coord in range(0, len(point)):\n",
    "            w[coord] = w[coord] + eta * point[coord] * (x[j][0] - y)\n",
    "            theta = theta + eta * (x[j][0] - y)\n",
    "    \n",
    "    return w, theta\n",
    "        \n",
    "\n",
    "w, theta = Pitts(w, points, 0, eta)\n",
    "\n",
    "for j in range(0, len(points)):\n",
    "    point = np.array(points[j][1])\n",
    "    if point.dot(w) > theta: y = 1\n",
    "    else: y = -1\n",
    "    print(points[j][0], y)\n"
   ]
  },
  {
   "cell_type": "markdown",
   "id": "8ecd9bd1-67dd-49fd-b807-1cef2ffbcccf",
   "metadata": {},
   "source": [
    "## Demonstrate trained network accuracy"
   ]
  },
  {
   "cell_type": "code",
   "execution_count": 51,
   "id": "a892e57d",
   "metadata": {},
   "outputs": [
    {
     "ename": "TypeError",
     "evalue": "'tuple' object does not support item assignment",
     "output_type": "error",
     "traceback": [
      "\u001b[1;31m---------------------------------------------------------------------------\u001b[0m",
      "\u001b[1;31mTypeError\u001b[0m                                 Traceback (most recent call last)",
      "\u001b[1;32m~\\AppData\\Local\\Temp\\ipykernel_4216\\2637797264.py\u001b[0m in \u001b[0;36m<module>\u001b[1;34m\u001b[0m\n\u001b[0;32m      3\u001b[0m \u001b[1;33m\u001b[0m\u001b[0m\n\u001b[0;32m      4\u001b[0m \u001b[1;32mfor\u001b[0m \u001b[0mpoint\u001b[0m \u001b[1;32min\u001b[0m \u001b[0mtesting\u001b[0m\u001b[1;33m:\u001b[0m\u001b[1;33m\u001b[0m\u001b[1;33m\u001b[0m\u001b[0m\n\u001b[1;32m----> 5\u001b[1;33m     \u001b[1;32mif\u001b[0m \u001b[0mpoint\u001b[0m\u001b[1;33m[\u001b[0m\u001b[1;36m0\u001b[0m\u001b[1;33m]\u001b[0m \u001b[1;33m==\u001b[0m \u001b[1;34m'red'\u001b[0m\u001b[1;33m:\u001b[0m \u001b[0mpoint\u001b[0m\u001b[1;33m[\u001b[0m\u001b[1;36m0\u001b[0m\u001b[1;33m]\u001b[0m \u001b[1;33m=\u001b[0m \u001b[1;36m1\u001b[0m\u001b[1;33m\u001b[0m\u001b[1;33m\u001b[0m\u001b[0m\n\u001b[0m\u001b[0;32m      6\u001b[0m     \u001b[1;32mif\u001b[0m \u001b[0mpoint\u001b[0m\u001b[1;33m[\u001b[0m\u001b[1;36m0\u001b[0m\u001b[1;33m]\u001b[0m \u001b[1;33m==\u001b[0m \u001b[1;34m'blue'\u001b[0m\u001b[1;33m:\u001b[0m \u001b[0mpoint\u001b[0m\u001b[1;33m[\u001b[0m\u001b[1;36m0\u001b[0m\u001b[1;33m]\u001b[0m \u001b[1;33m=\u001b[0m \u001b[1;33m-\u001b[0m\u001b[1;36m1\u001b[0m\u001b[1;33m\u001b[0m\u001b[1;33m\u001b[0m\u001b[0m\n\u001b[0;32m      7\u001b[0m \u001b[1;33m\u001b[0m\u001b[0m\n",
      "\u001b[1;31mTypeError\u001b[0m: 'tuple' object does not support item assignment"
     ]
    }
   ],
   "source": [
    "from make_points import *\n",
    "testing = Generation()\n",
    "\n",
    "for point in testing:\n",
    "    if point[0] == 'red': point[0] = 1\n",
    "    if point[0] == 'blue': point[0] = -1\n",
    "        \n",
    "correct = 0\n",
    "for j in range(0, len(testing)):\n",
    "    point = np.array(testing[j][1])\n",
    "    if point.dot(w) > theta: y = 1\n",
    "    else: y = -1\n",
    "    print(testing[j][0], y)"
   ]
  },
  {
   "cell_type": "markdown",
   "id": "82629a26-7ad0-43a5-9ffd-2e657c116184",
   "metadata": {},
   "source": [
    "### Further exploration\n",
    "\n",
    "1. Try a different nonlinearity (something other than the McCulloch-Pitts binary threshold unit)\n",
    "2. Can you devise any tweaks to the perceptron learning rule? What rule corresponds to gradient descent for differentiable neuronal nonlinearities?\n",
    "3. How does performance change if data are mis-labelled? Are there configurations that the network cannot learn to separate? "
   ]
  }
 ],
 "metadata": {
  "kernelspec": {
   "display_name": "Python 3 (ipykernel)",
   "language": "python",
   "name": "python3"
  },
  "language_info": {
   "codemirror_mode": {
    "name": "ipython",
    "version": 3
   },
   "file_extension": ".py",
   "mimetype": "text/x-python",
   "name": "python",
   "nbconvert_exporter": "python",
   "pygments_lexer": "ipython3",
   "version": "3.8.12"
  }
 },
 "nbformat": 4,
 "nbformat_minor": 5
}
