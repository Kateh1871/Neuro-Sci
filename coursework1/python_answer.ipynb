{
 "cells": [
  {
   "cell_type": "markdown",
   "id": "712f4624-799a-4d2f-9ba1-f2a25a4e6bbe",
   "metadata": {},
   "source": [
    "### Setup environment"
   ]
  },
  {
   "cell_type": "code",
   "execution_count": 41,
   "id": "78a77830-56e0-4d5b-94a4-ecce791ff7c1",
   "metadata": {},
   "outputs": [
    {
     "name": "stdout",
     "output_type": "stream",
     "text": [
      " __ \n",
      " __|\n",
      " __|\n",
      "3\n",
      " __ \n",
      "|__ \n",
      "|__|\n",
      "6\n",
      "   \n",
      "   |\n",
      "   |\n",
      "1\n",
      "test1\n",
      " __ \n",
      " __|\n",
      " __|\n",
      "0\n",
      "test2\n",
      " __ \n",
      "|__|\n",
      "|__|\n",
      "0\n"
     ]
    }
   ],
   "source": [
    "from seven_segments import *\n",
    "import numpy as np\n",
    "\n",
    "N = 11 # Number of elements in each pattern\n",
    "\n",
    "seven_segment(three)\n",
    "seven_segment(six)\n",
    "seven_segment(one)\n",
    "print(\"test1\")\n",
    "seven_segment(test1)\n",
    "print(\"test2\")\n",
    "seven_segment(test2)"
   ]
  },
  {
   "cell_type": "markdown",
   "id": "aff1213c-f1b4-4020-b647-294d8cb099d1",
   "metadata": {},
   "source": [
    "### Create the weight matrix"
   ]
  },
  {
   "cell_type": "code",
   "execution_count": 42,
   "id": "4dfe26de-b8f7-4a7f-bd82-8f29710366a7",
   "metadata": {},
   "outputs": [
    {
     "name": "stdout",
     "output_type": "stream",
     "text": [
      "[[ 0.          0.09090909 -0.09090909  0.27272727  0.09090909  0.09090909\n",
      "   0.27272727 -0.09090909  0.27272727  0.09090909 -0.09090909]\n",
      " [ 0.09090909  0.         -0.27272727  0.09090909  0.27272727 -0.09090909\n",
      "   0.09090909 -0.27272727  0.09090909  0.27272727  0.09090909]\n",
      " [-0.09090909 -0.27272727  0.         -0.09090909 -0.27272727  0.09090909\n",
      "  -0.09090909  0.27272727 -0.09090909 -0.27272727 -0.09090909]\n",
      " [ 0.27272727  0.09090909 -0.09090909  0.          0.09090909  0.09090909\n",
      "   0.27272727 -0.09090909  0.27272727  0.09090909 -0.09090909]\n",
      " [ 0.09090909  0.27272727 -0.27272727  0.09090909  0.         -0.09090909\n",
      "   0.09090909 -0.27272727  0.09090909  0.27272727  0.09090909]\n",
      " [ 0.09090909 -0.09090909  0.09090909  0.09090909 -0.09090909  0.\n",
      "   0.09090909  0.09090909  0.09090909 -0.09090909 -0.27272727]\n",
      " [ 0.27272727  0.09090909 -0.09090909  0.27272727  0.09090909  0.09090909\n",
      "   0.         -0.09090909  0.27272727  0.09090909 -0.09090909]\n",
      " [-0.09090909 -0.27272727  0.27272727 -0.09090909 -0.27272727  0.09090909\n",
      "  -0.09090909  0.         -0.09090909 -0.27272727 -0.09090909]\n",
      " [ 0.27272727  0.09090909 -0.09090909  0.27272727  0.09090909  0.09090909\n",
      "   0.27272727 -0.09090909  0.          0.09090909 -0.09090909]\n",
      " [ 0.09090909  0.27272727 -0.27272727  0.09090909  0.27272727 -0.09090909\n",
      "   0.09090909 -0.27272727  0.09090909  0.          0.09090909]\n",
      " [-0.09090909  0.09090909 -0.09090909 -0.09090909  0.09090909 -0.27272727\n",
      "  -0.09090909 -0.09090909 -0.09090909  0.09090909  0.        ]]\n"
     ]
    }
   ],
   "source": [
    "# Prepare an 11×11 weight matrix W \n",
    "# Storing patterns one, three, and six\n",
    "\n",
    "# 11 different patterns\n",
    "N = 11\n",
    "W = np.zeros((11, 11))\n",
    "for i in range(0, 11):\n",
    "    for j in range(0, 11):\n",
    "        if i == j:\n",
    "            W[i, j] = 0\n",
    "        else:\n",
    "            # calculate sum{x_{i}^{a} * x_{j}^{a}} for each of the 3 patterns\n",
    "            for a in [one, three, six]:\n",
    "                W[i, j] += a[i] * a[j]\n",
    "            # normalise the weights\n",
    "            W[i, j] = W[i, j] / N\n",
    "            \n",
    "# no clue if this is right, looks it though\n",
    "print(W) "
   ]
  },
  {
   "cell_type": "markdown",
   "id": "4cc14e7b-c84e-4469-bc50-0a7d751b7a59",
   "metadata": {},
   "source": [
    "### Write a function to evolve the network via the McCulloch-Pitts formula"
   ]
  },
  {
   "cell_type": "code",
   "execution_count": 43,
   "id": "78e4ffa1-55ef-4a45-ac24-33085abd5cfe",
   "metadata": {},
   "outputs": [
    {
     "name": "stdout",
     "output_type": "stream",
     "text": [
      "[ 1  1  1  1  1  1  1 -1 -1 -1 -1]\n",
      "[ 1  1 -1  1  1  1  1 -1  1  1 -1]\n"
     ]
    }
   ],
   "source": [
    "#subroutines? \n",
    "\n",
    "def evolve(x, W):\n",
    "    # solve the sum{W_{i,j} * x_{j}} for each x_{i}\n",
    "    # if > 0, x_{i} = 1, else x_{i} = 0\n",
    "    # the new vector is the next step of the iteration and is returned\n",
    "    x_hat = np.zeros(11, dtype=int)\n",
    "    for i in range (0, 11):\n",
    "        McPitt = 0\n",
    "        for j in range (0, 11):\n",
    "            McPitt += W[i, j] * x[j]\n",
    "            \n",
    "        x_hat[i] = 1 if McPitt > 0 else -1\n",
    "\n",
    "    return(x_hat)\n",
    "    \n",
    "print(test2)\n",
    "test2_hat = evolve(test2, W)\n",
    "print(test2_hat)"
   ]
  },
  {
   "cell_type": "markdown",
   "id": "1b89e392-3cc8-4661-9391-3e14c41c4ecc",
   "metadata": {},
   "source": [
    "### Evolve patterns `test1` and `test2`\n",
    "\n",
    "For each of the two test patterns, evolve the patterns until they stop\n",
    "changing, printing the pattern at each step"
   ]
  },
  {
   "cell_type": "code",
   "execution_count": 44,
   "id": "80059c12-91b8-430e-be87-be01389b359d",
   "metadata": {},
   "outputs": [
    {
     "name": "stdout",
     "output_type": "stream",
     "text": [
      "test1\n",
      " __ \n",
      " __|\n",
      " __|\n",
      "0\n",
      "test2\n",
      " __ \n",
      "|__|\n",
      "|__|\n",
      "0\n",
      "test1\n",
      " __ \n",
      " __|\n",
      " __|\n",
      "3\n",
      "test2\n",
      " __ \n",
      "|__ \n",
      "|__|\n",
      "6\n"
     ]
    }
   ],
   "source": [
    "evolve1, evolve2 = True, True\n",
    "\n",
    "while evolve1 or evolve2:\n",
    "    print(\"test1\")\n",
    "    seven_segment(test1)\n",
    "    print(\"test2\")\n",
    "    seven_segment(test2)\n",
    "    if evolve1: test1_hat = evolve(test1, W)\n",
    "    if evolve2: test2_hat = evolve(test2, W)\n",
    "    \n",
    "    if np.array_equal(test1, test1_hat):\n",
    "        evolve1 = False\n",
    "    else:\n",
    "        test1 = test1_hat\n",
    "    \n",
    "    if np.array_equal(test2, test2_hat):\n",
    "        evolve2 = False\n",
    "    else:\n",
    "        test2 = test2_hat\n"
   ]
  },
  {
   "cell_type": "code",
   "execution_count": null,
   "id": "5f6db0c0",
   "metadata": {},
   "outputs": [],
   "source": []
  }
 ],
 "metadata": {
  "kernelspec": {
   "display_name": "Python 3 (ipykernel)",
   "language": "python",
   "name": "python3"
  },
  "language_info": {
   "codemirror_mode": {
    "name": "ipython",
    "version": 3
   },
   "file_extension": ".py",
   "mimetype": "text/x-python",
   "name": "python",
   "nbconvert_exporter": "python",
   "pygments_lexer": "ipython3",
   "version": "3.8.12"
  }
 },
 "nbformat": 4,
 "nbformat_minor": 5
}
