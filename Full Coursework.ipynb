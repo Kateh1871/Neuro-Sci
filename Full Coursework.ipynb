{
 "cells": [
  {
   "cell_type": "markdown",
   "id": "62a9dddf-f4ca-4a85-b930-a08e4a095e35",
   "metadata": {},
   "source": [
    "**Question 1**"
   ]
  },
  {
   "cell_type": "markdown",
   "id": "6c64d21e-728a-4d32-85c3-346777586e66",
   "metadata": {},
   "source": [
    "Setting up the process"
   ]
  },
  {
   "cell_type": "code",
   "execution_count": 90,
   "id": "eb165727-99a4-4927-9fe3-95feedce9c22",
   "metadata": {},
   "outputs": [],
   "source": [
    "import numpy as np\n",
    "import matplotlib.pyplot as plt\n",
    "rng = np.random.default_rng(seed=69420)     # set up random number generator with fixed seed\n",
    "expected = 35     # spikes occur with frequency 35Hz\n",
    "timeStop = 1  # generate spikes over 1 second\n",
    "refractory = 0.005    # 0.001 = 1ms\n",
    "spikesHomo = []\n",
    "spikesInhomo = []\n",
    "timeTotal = 0"
   ]
  },
  {
   "cell_type": "markdown",
   "id": "59bf2db7-e3de-4fab-a823-27be706c601a",
   "metadata": {},
   "source": [
    "Calculating the spike times for a homogeneous & inhomogeneous process"
   ]
  },
  {
   "cell_type": "code",
   "execution_count": 91,
   "id": "e64147aa-dabf-4866-a45b-cfec8d076200",
   "metadata": {},
   "outputs": [],
   "source": [
    "while timeTotal < timeStop:\n",
    "    time = rng.exponential(1/expected)\n",
    "    timeTotal += time\n",
    "    if timeTotal < timeStop:\n",
    "        spikesHomo.append(timeTotal)\n",
    "    if len(spikesInhomo) == 0:\n",
    "        spikesInhomo.append(timeTotal)\n",
    "    # what are the odds that no spikes occur over the second?\n",
    "    elif timeTotal - spikesInhomo[-1] > refractory:\n",
    "        spikesInhomo.append(timeTotal)\n"
   ]
  },
  {
   "cell_type": "markdown",
   "id": "7be6f9bd-3278-4e35-8c59-bb3f174ab2ad",
   "metadata": {},
   "source": [
    "Calculating spike times for an inhomogeneous poisson process"
   ]
  },
  {
   "cell_type": "code",
   "execution_count": 81,
   "id": "40544709-41e8-4ed6-b02d-9fcef0347745",
   "metadata": {},
   "outputs": [],
   "source": [
    "timeTotal = 0\n",
    "while timeTotal < timeStop:\n",
    "    time = rng.exponential(1/expected)\n",
    "    timeTotal += time"
   ]
  },
  {
   "cell_type": "markdown",
   "id": "433bb783-6662-4a0c-bedf-4ff552c1b2c3",
   "metadata": {},
   "source": [
    "Plotting spikes as a 1D plot"
   ]
  },
  {
   "cell_type": "code",
   "execution_count": 92,
   "id": "234b46ca-a206-4560-937f-ec8769fb125b",
   "metadata": {},
   "outputs": [
    {
     "data": {
      "image/png": "[encoded data removed]",
      "text/plain": [
       "<Figure size 640x480 with 1 Axes>"
      ]
     },
     "metadata": {},
     "output_type": "display_data"
    }
   ],
   "source": [
    "fig, ax = plt.subplots()\n",
    "# ax.scatter(spikesHomo, np.ones(len(spikesHomo)), marker=\".\")\n",
    "ax.scatter(spikesInhomo, np.ones(len(spikesInhomo)), marker=\".\", c='g')\n",
    "plt.show()"
   ]
  },
  {
   "cell_type": "code",
   "execution_count": null,
   "id": "c40cd78a-a7c2-40eb-8445-8103a54b86b4",
   "metadata": {},
   "outputs": [],
   "source": []
  }
 ],
 "metadata": {
  "kernelspec": {
   "display_name": "Python 3 (ipykernel)",
   "language": "python",
   "name": "python3"
  },
  "language_info": {
   "codemirror_mode": {
    "name": "ipython",
    "version": 3
   },
   "file_extension": ".py",
   "mimetype": "text/x-python",
   "name": "python",
   "nbconvert_exporter": "python",
   "pygments_lexer": "ipython3",
   "version": "3.12.7"
  }
 },
 "nbformat": 4,
 "nbformat_minor": 5
}
