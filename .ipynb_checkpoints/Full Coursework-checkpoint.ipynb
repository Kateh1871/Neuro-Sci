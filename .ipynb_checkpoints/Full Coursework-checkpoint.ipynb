{
 "cells": [
  {
   "cell_type": "markdown",
   "id": "62a9dddf-f4ca-4a85-b930-a08e4a095e35",
   "metadata": {},
   "source": [
    "**Question 1**"
   ]
  },
  {
   "cell_type": "markdown",
   "id": "6c64d21e-728a-4d32-85c3-346777586e66",
   "metadata": {},
   "source": [
    "Setting up the process"
   ]
  },
  {
   "cell_type": "code",
   "execution_count": 202,
   "id": "eb165727-99a4-4927-9fe3-95feedce9c22",
   "metadata": {},
   "outputs": [],
   "source": [
    "import numpy as np\n",
    "import matplotlib.pyplot as plt\n",
    "rng = np.random.default_rng(seed=69420)     # set up random number generator with fixed seed for reproducability"
   ]
  },
  {
   "cell_type": "markdown",
   "id": "8cb3743e-5f29-48c1-8af3-e39b0aaa6a17",
   "metadata": {},
   "source": [
    "Generating the spikes, uses the exponential distribution to determine the time to the next spike. Could be optmised, calculating both the homo and inhomo case while only returning one is silly"
   ]
  },
  {
   "cell_type": "code",
   "execution_count": 203,
   "id": "e64147aa-dabf-4866-a45b-cfec8d076200",
   "metadata": {},
   "outputs": [],
   "source": [
    "def SpikeGeneration(timeStop = 1, homo = True, refractory = 0.05, expected = 35):\n",
    "    # refractory is minimum time between spikes for the inhomogeneous case\n",
    "    # expected is lambda in the exponential distribution\n",
    "    spikesHomo = []\n",
    "    spikesInhomo = []\n",
    "    timeTotal = 0\n",
    "    while timeTotal < timeStop:\n",
    "        time = rng.exponential(1/expected)\n",
    "        timeTotal += time\n",
    "        if timeTotal > timeStop:\n",
    "            break\n",
    "    \n",
    "        spikesHomo.append(timeTotal)\n",
    "        if len(spikesInhomo) == 0:\n",
    "            spikesInhomo.append(timeTotal)\n",
    "        # what are the odds that no spikes occur over the period?\n",
    "        # High apparently\n",
    "        elif timeTotal - spikesInhomo[-1] > refractory:\n",
    "            spikesInhomo.append(timeTotal)\n",
    "\n",
    "    if homo == True: return spikesHomo\n",
    "    elif homo == False: return spikesInhomo\n"
   ]
  },
  {
   "cell_type": "markdown",
   "id": "59bf2db7-e3de-4fab-a823-27be706c601a",
   "metadata": {},
   "source": [
    "Calculating the ISI coefficient, $C_{ISI} = \\frac{\\sigma}{\\mu}$"
   ]
  },
  {
   "cell_type": "code",
   "execution_count": 204,
   "id": "51d668d6-b82a-41b9-920e-abeadfe2b17f",
   "metadata": {},
   "outputs": [],
   "source": [
    "def ISICoeff(spikes):\n",
    "    spikeISI = []\n",
    "    for spike in range (0, len(spikes)):\n",
    "        if spike == 0: pass\n",
    "        else:\n",
    "            spikeISI.append(spikes[spike] - spikes[spike - 1])\n",
    "\n",
    "    return np.std(spikeISI) / np.mean(spikeISI)"
   ]
  },
  {
   "cell_type": "markdown",
   "id": "ca953eeb-fd07-4da5-b726-4c42a8043ab3",
   "metadata": {},
   "source": [
    "Calculating the Inter Spike Interval coefficient for the two created spike trains"
   ]
  },
  {
   "cell_type": "code",
   "execution_count": 205,
   "id": "0f25a159-fc91-4685-8d0a-cfc509ad3053",
   "metadata": {},
   "outputs": [],
   "source": [
    "spikesHomo = SpikeGeneration()\n",
    "spikesInhomo = SpikeGeneration(homo = False)\n",
    "cHomo = ISICoeff(spikesHomo)\n",
    "cInhomo = ISICoeff(spikesInhomo)"
   ]
  },
  {
   "cell_type": "code",
   "execution_count": 206,
   "id": "c3f0eb1f-b0af-4a7a-a9ce-1835587da912",
   "metadata": {},
   "outputs": [
    {
     "name": "stdout",
     "output_type": "stream",
     "text": [
      "0.8258735087580551\n",
      "0.33422870379391895\n"
     ]
    }
   ],
   "source": [
    "print(cHomo)\n",
    "print(cInhomo)\n",
    "# cHomo should be ~1, I assume cInhomo should be less than"
   ]
  },
  {
   "cell_type": "markdown",
   "id": "5fd016da-e541-4b66-8650-258dceb6bf3a",
   "metadata": {},
   "source": [
    "Calculating the fano factor for a given set of spike trains, $F=\\frac{\\sigma^2}{\\mu}$"
   ]
  },
  {
   "cell_type": "code",
   "execution_count": 207,
   "id": "c6699e1c-883e-43dd-9579-9e25ca14e33b",
   "metadata": {},
   "outputs": [],
   "source": [
    "def FanoFactor(spikes):\n",
    "    # spikes should be a 2D array with D-1 being the differing runs & D-2 the spikes in those runs\n",
    "    # the function calculates the spike counts for the runs and returns the fano factor\n",
    "    # !!!!TAKES THE VECTOR OF SPIKE TIMES!!!! NOT SPIKES THEMSELVES\n",
    "    spikeCounts = [len(run)+1 for run in spikes]     # python indexes from 0\n",
    "    return np.var(spikeCounts) / np.mean(spikeCounts)"
   ]
  },
  {
   "cell_type": "markdown",
   "id": "ed347448-ddf1-46be-9e15-4e8a9a08b631",
   "metadata": {},
   "source": [
    "Calculating the fano factor for the homogeneous case, the inhomogeneous case needs to be run over multiple $\\Delta t$ so is done seperately "
   ]
  },
  {
   "cell_type": "code",
   "execution_count": 208,
   "id": "fb5c0049-06e1-4f00-b490-c8f9c74f9129",
   "metadata": {},
   "outputs": [
    {
     "name": "stdout",
     "output_type": "stream",
     "text": [
      "0.47005649717514125\n"
     ]
    }
   ],
   "source": [
    "runCount = 10\n",
    "spikesHomo = []\n",
    "for run in range(0, runCount):\n",
    "    spikesHomo.append(SpikeGeneration())\n",
    "\n",
    "print(FanoFactor(spikesHomo))"
   ]
  },
  {
   "cell_type": "markdown",
   "id": "be38d200-efff-48bb-965b-977644ca54e1",
   "metadata": {},
   "source": [
    "Calculating the fano factor for the inhomogeneous case for $\\Delta t$ = 10ms, 50ms, 100ms"
   ]
  },
  {
   "cell_type": "code",
   "execution_count": 209,
   "id": "128bc7c1-b0f0-446c-aa2f-75277280e2ab",
   "metadata": {},
   "outputs": [
    {
     "name": "stdout",
     "output_type": "stream",
     "text": [
      "[0.17142857142857149, 0.08888888888888889, 0.18333333333333338]\n"
     ]
    }
   ],
   "source": [
    "times = [0.01, 0.05, 0.1]\n",
    "spikesInhomo = []\n",
    "for time in times:\n",
    "    spikesTemp = []\n",
    "    for run in range(0, runCount):\n",
    "        spikesTemp.append(SpikeGeneration(timeStop = time, homo = False))\n",
    "\n",
    "    spikesInhomo.append(spikesTemp)\n",
    "\n",
    "fanoFactor = []\n",
    "for spikes in spikesInhomo:\n",
    "    fanoFactor.append(FanoFactor(spikes))\n",
    "\n",
    "print(fanoFactor)"
   ]
  },
  {
   "cell_type": "markdown",
   "id": "2e4e9ad4-8541-43ab-b190-d37912a97642",
   "metadata": {},
   "source": [
    "Part iv, gotta plot the ISI and fano factor for $\\Delta t$ = 100ms with $refractory \\in [0ms, 28ms]$"
   ]
  },
  {
   "cell_type": "code",
   "execution_count": 210,
   "id": "d3ae25e6-3043-40ca-a914-d6d52b22aefc",
   "metadata": {},
   "outputs": [
    {
     "data": {
      "text/plain": [
       "Text(0.5, 0, 'Refractory period (ms)')"
      ]
     },
     "execution_count": 210,
     "metadata": {},
     "output_type": "execute_result"
    },
    {
     "data": {
      "image/png": "[encoded data removed]",
      "text/plain": [
       "<Figure size 640x480 with 1 Axes>"
      ]
     },
     "metadata": {},
     "output_type": "display_data"
    }
   ],
   "source": [
    "# 0ms refractory is special case, where the process in homogeneous to avoid floating point errors\n",
    "ISI = []\n",
    "fano = []\n",
    "spikesTemp = []\n",
    "refractory = np.linspace(0, 0.028)\n",
    "ISI.append(ISICoeff(SpikeGeneration(timeStop = 0.1)))\n",
    "for run in range(0, runCount):\n",
    "    spikesTemp.append(SpikeGeneration(timeStop = 0.1))\n",
    "\n",
    "fano.append(FanoFactor(spikesTemp))\n",
    "\n",
    "# inhomogeneous process\n",
    "for refracTime in refractory[1:]:\n",
    "    ISI.append(ISICoeff(SpikeGeneration(timeStop = 0.1, refractory = refracTime, homo=False)))\n",
    "    spikesTemp = []\n",
    "    for run in range(0, runCount):\n",
    "        spikesTemp.append(SpikeGeneration(timeStop = 0.1, refractory = refracTime, homo=False))\n",
    "\n",
    "    fano.append(FanoFactor(spikesTemp))\n",
    "\n",
    "\n",
    "fig, ax = plt.subplots()\n",
    "\n",
    "ax.plot(refractory, fano, color='teal', label='Fano Factor')\n",
    "ax.plot(refractory, ISI, color='red', label='ISI coefficient')\n",
    "ax.legend()\n",
    "ax.set_xlabel('Refractory period (ms)')\n",
    "\n",
    "# missing values are due to divsion by zero, can be fixed by increasing delta t but the question asks for it to be 100ms"
   ]
  },
  {
   "cell_type": "code",
   "execution_count": 211,
   "id": "90f72aa9-d687-4298-819c-71aca95c20ea",
   "metadata": {},
   "outputs": [
    {
     "name": "stdout",
     "output_type": "stream",
     "text": [
      "[0.3712548045889739, 1.4074085272515664, nan, 0.0, 0.8414983735655532, 0.45619314499262004, 0.6658980925922933, 0.0, 0.22338734922881434, 1.0615091779747197, 0.5905132801106836, 0.19966606271218287, 0.45824082069914174, 0.39057700036804394, 0.3421240215311779, 0.0, 0.13971576306252337, 0.5521130731603184, 0.0, 0.0, nan, 0.4247703663080737, 0.611281039055209, 0.10101222870106874, 0.0, 0.0, nan, 0.1854146561303928, nan, 0.0, 0.06595130836695468, nan, 0.0, nan, nan, 0.0, 0.0, 0.20351222244078312, 0.05400487683964877, 0.0, 0.1325979756027152, nan, nan, nan, 0.0, 0.0, 0.0, 0.1962184487559584, 0.023808749844005862, nan]\n"
     ]
    }
   ],
   "source": [
    "print(ISI)"
   ]
  },
  {
   "cell_type": "markdown",
   "id": "554de9d0-5a3f-4a2f-aabb-9dad334c7977",
   "metadata": {},
   "source": [
    "<b>Question 2</b>"
   ]
  },
  {
   "cell_type": "code",
   "execution_count": 233,
   "id": "e10af796-9498-4952-8578-cf16f8db72b6",
   "metadata": {},
   "outputs": [],
   "source": [
    "# reading and converting file to numbers\n",
    "with open('rho.dat', 'r') as data:\n",
    "    spikes = [line.rsplit() for line in data]\n",
    "\n",
    "# this line is so dumb\n",
    "spikes = [int(spike[0]) for spike in spikes]"
   ]
  },
  {
   "cell_type": "code",
   "execution_count": 234,
   "id": "fd8377e7-af75-4bad-88b9-d4b3a99a8165",
   "metadata": {},
   "outputs": [
    {
     "name": "stdout",
     "output_type": "stream",
     "text": [
      "2.0085523370640965\n"
     ]
    }
   ],
   "source": [
    "# convert the spikes into a time series\n",
    "deltaT = 0.002\n",
    "\n",
    "# this line is dumber no way this is what im supposed to be doing\n",
    "spikeTimes = [deltaT*spikeCount*spike for spikeCount, spike in zip(range(0, len(spikes)), spikes) if deltaT*spikeCount*spike != 0]\n",
    "\n",
    "ISI = ISICoeff(spikeTimes)\n",
    "print(ISI)"
   ]
  },
  {
   "cell_type": "code",
   "execution_count": 235,
   "id": "9e632d0e-dc21-4b8e-9081-c6db640aa691",
   "metadata": {},
   "outputs": [
    {
     "ename": "KeyboardInterrupt",
     "evalue": "",
     "output_type": "error",
     "traceback": [
      "\u001b[1;31m---------------------------------------------------------------------------\u001b[0m",
      "\u001b[1;31mKeyboardInterrupt\u001b[0m                         Traceback (most recent call last)",
      "Cell \u001b[1;32mIn[235], line 7\u001b[0m\n\u001b[0;32m      4\u001b[0m tBins \u001b[38;5;241m=\u001b[39m [\u001b[38;5;241m0.002\u001b[39m, \u001b[38;5;241m0.01\u001b[39m, \u001b[38;5;241m0.05\u001b[39m, \u001b[38;5;241m0.1\u001b[39m]\n\u001b[0;32m      5\u001b[0m spikesBinned \u001b[38;5;241m=\u001b[39m []\n\u001b[1;32m----> 7\u001b[0m \u001b[38;5;28;01mwhile\u001b[39;00m spikes:\n\u001b[0;32m      8\u001b[0m     spikesBinned\u001b[38;5;241m.\u001b[39mappend(spikes[\u001b[38;5;241m0\u001b[39m:\u001b[38;5;241m5\u001b[39m])\n\u001b[0;32m      9\u001b[0m     spikes \u001b[38;5;241m=\u001b[39m spikes[\u001b[38;5;241m5\u001b[39m:]\n",
      "\u001b[1;31mKeyboardInterrupt\u001b[0m: "
     ]
    }
   ],
   "source": [
    "# and then i undo the silly line??\n",
    "# spikes = [[spike] for spike in spikes]\n",
    "\n",
    "tBins = [0.002, 0.01, 0.05, 0.1]\n",
    "spikesBinned = []\n",
    "\n",
    "while spikes:\n",
    "    spikesBinned.append(spikes[0:5])\n",
    "    spikes = spikes[5:]\n",
    "    \n",
    "\n",
    "fano = FanoFactor(spikesBinned)\n",
    "print(fano)\n",
    "# print(np.mean(spikes))\n",
    "# print(np.var(spikes))"
   ]
  },
  {
   "cell_type": "code",
   "execution_count": null,
   "id": "671395d1-645b-44fd-84a8-8ce9ba365e9b",
   "metadata": {},
   "outputs": [],
   "source": []
  }
 ],
 "metadata": {
  "kernelspec": {
   "display_name": "Python 3 (ipykernel)",
   "language": "python",
   "name": "python3"
  },
  "language_info": {
   "codemirror_mode": {
    "name": "ipython",
    "version": 3
   },
   "file_extension": ".py",
   "mimetype": "text/x-python",
   "name": "python",
   "nbconvert_exporter": "python",
   "pygments_lexer": "ipython3",
   "version": "3.12.7"
  }
 },
 "nbformat": 4,
 "nbformat_minor": 5
}
